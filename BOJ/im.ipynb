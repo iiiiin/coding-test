{
 "cells": [
  {
   "cell_type": "code",
   "execution_count": null,
   "metadata": {},
   "outputs": [],
   "source": [
    "# 13300\n",
    "# 방 배정\n",
    "\n",
    "# (학생 수, 최대 인원 수) 입력\n",
    "n, k = map(int, input().split())\n",
    "\n",
    "# [[여학생 수, 남학생 수] * (학년 수)]\n",
    "student = [[0,0] for _ in range(6)]\n",
    "\n",
    "# (성별, 학년) 입력\n",
    "for i in range(n):\n",
    "    s, y = map(int, input().split())\n",
    "    student[y-1][s] += 1\n",
    "\n",
    "# 결과값\n",
    "result = 0\n",
    "\n",
    "for j in range(6):\n",
    "    if student[j][0] % k != 0:\n",
    "        result += student[j][0] // k + 1\n",
    "    elif student[j][0] % k == 0:\n",
    "        result += student[j][0] // k\n",
    "    if student[j][1] % k != 0:\n",
    "        result += student[j][1] // k + 1\n",
    "    elif student[j][1] % k == 0:\n",
    "        result += student[j][1] // k\n",
    "\n",
    "print(result)"
   ]
  },
  {
   "cell_type": "code",
   "execution_count": 12,
   "metadata": {},
   "outputs": [
    {
     "name": "stdout",
     "output_type": "stream",
     "text": [
      "4 2 5 3 1\n"
     ]
    }
   ],
   "source": [
    "# 2605\n",
    "# 줄 세우기\n",
    "\n",
    "# 입력 받기\n",
    "n = int(input())\n",
    "\n",
    "lineup = list(map(int, input().split()))\n",
    "sequence = list(range(1,n+1))\n",
    "for i in range(1, n):\n",
    "    idx = lineup[i]\n",
    "    sequence.insert(i-idx, sequence.pop(i))\n",
    "print(*sequence)"
   ]
  },
  {
   "cell_type": "code",
   "execution_count": null,
   "metadata": {},
   "outputs": [
    {
     "name": "stdout",
     "output_type": "stream",
     "text": [
      "20\n",
      "7\n",
      "23\n",
      "19\n",
      "10\n",
      "8\n",
      "13\n"
     ]
    }
   ],
   "source": [
    "# 2309\n",
    "# 일곱 난쟁이\n",
    "\n",
    "from itertools import combinations\n",
    "\n",
    "# 입력 받기\n",
    "dwarf = [int(input()) for _ in range(9)]\n",
    "dwarf = list(combinations(dwarf, 7))\n",
    "result = [dwarf[i] for i in range(len(dwarf)) if sum(dwarf[i]) == 100]\n",
    "result = sorted(result[0])\n",
    "for j in range(7):\n",
    "    print(result[j])"
   ]
  }
 ],
 "metadata": {
  "kernelspec": {
   "display_name": "3.11.9",
   "language": "python",
   "name": "python3"
  },
  "language_info": {
   "codemirror_mode": {
    "name": "ipython",
    "version": 3
   },
   "file_extension": ".py",
   "mimetype": "text/x-python",
   "name": "python",
   "nbconvert_exporter": "python",
   "pygments_lexer": "ipython3",
   "version": "3.11.9"
  }
 },
 "nbformat": 4,
 "nbformat_minor": 2
}
