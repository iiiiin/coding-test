{
 "cells": [
  {
   "cell_type": "markdown",
   "metadata": {},
   "source": [
    "**✅ JadenCase 문자열 만들기**<br>\n",
    "###### 출처: 프로그래머스 코딩 테스트 연습, https://school.programmers.co.kr/learn/courses/30/lessons/12951"
   ]
  },
  {
   "cell_type": "code",
   "execution_count": null,
   "metadata": {},
   "outputs": [
    {
     "data": {
      "text/plain": [
       "'3people Unfollowed Me'"
      ]
     },
     "metadata": {},
     "output_type": "display_data"
    }
   ],
   "source": [
    "def solution(s):\n",
    "    answer = ''\n",
    "    if s[0].isalpha():\n",
    "        answer += s[0].upper()\n",
    "    else:\n",
    "        answer += s[0]\n",
    "    for i in range(1, len(s)):\n",
    "        if s[i-1] == \" \" and s[i].isalpha():\n",
    "            answer += s[i].upper()\n",
    "        else:\n",
    "            answer += s[i].lower()\n",
    "    return answer"
   ]
  },
  {
   "cell_type": "markdown",
   "metadata": {},
   "source": [
    "**✅ 최솟값 만들기**<br>\n",
    "###### 출처: 프로그래머스 코딩 테스트 연습, https://school.programmers.co.kr/learn/courses/30/lessons/12941"
   ]
  },
  {
   "cell_type": "code",
   "execution_count": null,
   "metadata": {},
   "outputs": [],
   "source": [
    "# \n",
    "\n",
    "def solution(A,B):\n",
    "    answer = 0\n",
    "    A.sort()\n",
    "    B.sort(reverse=True)\n",
    "    answer = sum([A[i]*B[i] for i in range(len(A))])\n",
    "    return answer"
   ]
  },
  {
   "cell_type": "markdown",
   "metadata": {},
   "source": [
    "**✅ 피보나치 수**<br>\n",
    "###### 출처: 프로그래머스 코딩 테스트 연습, https://school.programmers.co.kr/learn/courses/30/lessons/12945"
   ]
  },
  {
   "cell_type": "code",
   "execution_count": 5,
   "metadata": {},
   "outputs": [],
   "source": [
    "def solution(n):\n",
    "    answer = 0\n",
    "    pibo = [0]*(n+1)\n",
    "    pibo[0] = 0\n",
    "    pibo[1] = 1\n",
    "    for i in range(2,n+1):\n",
    "        pibo[i] = (pibo[i-1] + pibo[i-2]) % 1234567\n",
    "    answer = pibo[n]\n",
    "    return answer"
   ]
  }
 ],
 "metadata": {
  "kernelspec": {
   "display_name": "3.11.9",
   "language": "python",
   "name": "python3"
  },
  "language_info": {
   "codemirror_mode": {
    "name": "ipython",
    "version": 3
   },
   "file_extension": ".py",
   "mimetype": "text/x-python",
   "name": "python",
   "nbconvert_exporter": "python",
   "pygments_lexer": "ipython3",
   "version": "3.11.9"
  }
 },
 "nbformat": 4,
 "nbformat_minor": 2
}
