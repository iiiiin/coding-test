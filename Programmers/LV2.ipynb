{
 "cells": [
  {
   "cell_type": "markdown",
   "metadata": {},
   "source": [
    "출처: 프로그래머스 코딩 테스트 연습, https://school.programmers.co.kr/learn/challenges"
   ]
  },
  {
   "cell_type": "code",
   "execution_count": null,
   "metadata": {},
   "outputs": [
    {
     "data": {
      "text/plain": [
       "'3people Unfollowed Me'"
      ]
     },
     "metadata": {},
     "output_type": "display_data"
    }
   ],
   "source": [
    "# JadenCase 문자열 만들기\n",
    "\n",
    "def solution(s):\n",
    "    answer = ''\n",
    "    if s[0].isalpha():\n",
    "        answer += s[0].upper()\n",
    "    else:\n",
    "        answer += s[0]\n",
    "    for i in range(1, len(s)):\n",
    "        if s[i-1] == \" \" and s[i].isalpha():\n",
    "            answer += s[i].upper()\n",
    "        else:\n",
    "            answer += s[i].lower()\n",
    "    return answer"
   ]
  },
  {
   "cell_type": "code",
   "execution_count": null,
   "metadata": {},
   "outputs": [],
   "source": [
    "# 최솟값 만들기\n",
    "\n",
    "def solution(A,B):\n",
    "    answer = 0\n",
    "    A.sort()\n",
    "    B.sort(reverse=True)\n",
    "    answer = sum([A[i]*B[i] for i in range(len(A))])\n",
    "    return answer"
   ]
  }
 ],
 "metadata": {
  "language_info": {
   "name": "python"
  }
 },
 "nbformat": 4,
 "nbformat_minor": 2
}
