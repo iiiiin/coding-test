{
 "cells": [
  {
   "cell_type": "markdown",
   "metadata": {},
   "source": [
    "출처: 프로그래머스 코딩 테스트 연습, https://school.programmers.co.kr/learn/challenges"
   ]
  },
  {
   "cell_type": "code",
   "execution_count": 22,
   "metadata": {},
   "outputs": [
    {
     "name": "stdout",
     "output_type": "stream",
     "text": [
      "level:1 i:0 lefttime:99\n",
      "level:1 i:1 lefttime:97\n"
     ]
    },
    {
     "data": {
      "text/plain": [
       "1"
      ]
     },
     "execution_count": 22,
     "metadata": {},
     "output_type": "execute_result"
    }
   ],
   "source": [
    "# [PCCP 기출문제] 2번 / 퍼즐 게임 챌린지\n",
    "\n",
    "def solution(diffs, times, limit):\n",
    "    answer = max(diffs)+1\n",
    "    # 시작, 끝 설정\n",
    "    start = 1\n",
    "    end = max(diffs)\n",
    "    while start <= end:\n",
    "        # 중간값 설정\n",
    "        mid = (start + end) // 2\n",
    "        lefttime = limit\n",
    "\n",
    "        # 조건에 따른 계산 수행\n",
    "        for i in range(len(diffs)):\n",
    "            if diffs[i] <= mid:\n",
    "                lefttime -= times[i]\n",
    "            else:\n",
    "                lefttime -= (diffs[i] - mid + 1)*times[i]\n",
    "                lefttime -= (diffs[i] - mid)*times[i-1]\n",
    "\n",
    "        # 남은 시간이 많을 경우, 숙련도 낮추기\n",
    "        if lefttime >= 0:\n",
    "            end = mid - 1\n",
    "            answer = min(answer, mid)\n",
    "\n",
    "        # 남은 시간이 부족할 경우, 숙련도 높이기\n",
    "        else:\n",
    "            start = mid + 1\n",
    "    return answer"
   ]
  },
  {
   "cell_type": "code",
   "execution_count": null,
   "metadata": {},
   "outputs": [
    {
     "name": "stdout",
     "output_type": "stream",
     "text": [
      "30\n",
      "29\n",
      "30\n",
      "30\n"
     ]
    },
    {
     "data": {
      "text/plain": [
       "18"
      ]
     },
     "execution_count": 14,
     "metadata": {},
     "output_type": "execute_result"
    }
   ],
   "source": [
    "# [PCCP 기출문제] 1번 / 붕대 감기\n",
    "\n",
    "def solution(bandage, health, attacks):\n",
    "    answer = 0\n",
    "    cnt = 0\n",
    "    now_hp = health\n",
    "    n = attacks[-1][0] + 1\n",
    "    for i in range(1,n):\n",
    "        if i == attacks[0][0]:\n",
    "            now_hp -= attacks[0][1]\n",
    "            cnt = 0\n",
    "            attacks.append(attacks.pop(0))\n",
    "            if now_hp <= 0:\n",
    "                answer = -1\n",
    "                return answer\n",
    "            continue\n",
    "        if now_hp + bandage[1] >= health:\n",
    "            now_hp = health\n",
    "            continue\n",
    "        else:\n",
    "            now_hp += bandage[1]\n",
    "            cnt += 1\n",
    "            if cnt == bandage[0]:\n",
    "                if now_hp + bandage[2] >= health:\n",
    "                    now_hp = health\n",
    "                    cnt = 0\n",
    "                    continue\n",
    "                now_hp += bandage[2]\n",
    "                cnt = 0\n",
    "    answer = now_hp\n",
    "    return answer"
   ]
  },
  {
   "cell_type": "code",
   "execution_count": null,
   "metadata": {},
   "outputs": [],
   "source": [
    "# [PCCP 기출문제] 1번 / 동영상 재생기\n",
    "\n",
    "def solution(video_len, pos, op_start, op_end, commands):\n",
    "    answer = ''\n",
    "    pos = pos.split(\":\")\n",
    "    pos = int(pos[0])*60+int(pos[1])\n",
    "    video_len = video_len.split(\":\")\n",
    "    video_len = int(video_len[0])*60+int(video_len[1])\n",
    "    op_end = op_end.split(\":\")\n",
    "    op_end = int(op_end[0])*60+int(op_end[1])\n",
    "    op_start = op_start.split(\":\")\n",
    "    op_start = int(op_start[0])*60+int(op_start[1])\n",
    "    for x in commands:\n",
    "        if op_start <= pos and pos <= op_end:\n",
    "                pos = op_end\n",
    "        if x == \"prev\":\n",
    "            if pos < 10:\n",
    "                pos = 0\n",
    "            else:\n",
    "                pos -= 10\n",
    "            if op_start <= pos and pos <= op_end:\n",
    "                pos = op_end\n",
    "        if x == \"next\":\n",
    "            if video_len - pos < 10:\n",
    "                pos = video_len\n",
    "            else:\n",
    "                pos += 10\n",
    "            if op_start <= pos and pos <= op_end:\n",
    "                pos = op_end\n",
    "    if pos // 60 < 10:\n",
    "        answer += \"0\"+str(pos//60) + \":\"\n",
    "    else:\n",
    "        answer += str(pos//60) + \":\"\n",
    "    if pos % 60 < 10:\n",
    "        answer += \"0\"+str(pos%60)\n",
    "    else:\n",
    "        answer += str(pos%60)\n",
    "    return answer"
   ]
  }
 ],
 "metadata": {
  "kernelspec": {
   "display_name": "3.11.9",
   "language": "python",
   "name": "python3"
  },
  "language_info": {
   "codemirror_mode": {
    "name": "ipython",
    "version": 3
   },
   "file_extension": ".py",
   "mimetype": "text/x-python",
   "name": "python",
   "nbconvert_exporter": "python",
   "pygments_lexer": "ipython3",
   "version": "3.11.9"
  }
 },
 "nbformat": 4,
 "nbformat_minor": 2
}
