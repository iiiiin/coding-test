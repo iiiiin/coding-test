{
 "cells": [
  {
   "cell_type": "markdown",
   "metadata": {},
   "source": [
    "**✅ 9. 이웃한 칸**<br>\n",
    "###### 출처: 프로그래머스 코딩 테스트 연습, https://school.programmers.co.kr/learn/courses/30/lessons/250125"
   ]
  },
  {
   "cell_type": "code",
   "execution_count": null,
   "metadata": {},
   "outputs": [],
   "source": [
    "def solution(board, h, w):\n",
    "    answer = 0\n",
    "    # 위\n",
    "    if h > 0:\n",
    "        if board[h][w] == board[h-1][w]:\n",
    "            answer += 1\n",
    "    # 아래\n",
    "    if h < len(board)-1:\n",
    "        if board[h][w] == board[h+1][w]:\n",
    "            answer += 1\n",
    "    # 좌\n",
    "    if w > 0:\n",
    "        if board[h][w] == board[h][w-1]:\n",
    "            answer += 1\n",
    "    # 우\n",
    "    if w < len(board)-1:\n",
    "        if board[h][w] == board[h][w+1]:\n",
    "            answer += 1\n",
    "    return answer"
   ]
  },
  {
   "cell_type": "markdown",
   "metadata": {},
   "source": [
    "**✅ 9. 지폐 접기**<br>\n",
    "###### 출처: 프로그래머스 코딩 테스트 연습, https://school.programmers.co.kr/learn/courses/30/lessons/340199"
   ]
  },
  {
   "cell_type": "code",
   "execution_count": null,
   "metadata": {},
   "outputs": [],
   "source": [
    "def solution(wallet, bill):\n",
    "    answer = 0\n",
    "    while min(bill) > min(wallet) or max(bill) > max(wallet):\n",
    "        if bill[0] > bill[1]:\n",
    "            bill[0] = bill[0] // 2\n",
    "        else:\n",
    "            bill[1] = bill[1] // 2\n",
    "        answer +=1\n",
    "    return answer"
   ]
  },
  {
   "cell_type": "markdown",
   "metadata": {},
   "source": [
    "**✅ [PCCE 기출문제] 10번 / 공원**<br>\n",
    "###### 출처: 프로그래머스 코딩 테스트 연습, https://school.programmers.co.kr/learn/courses/30/lessons/340198"
   ]
  },
  {
   "cell_type": "code",
   "execution_count": null,
   "metadata": {},
   "outputs": [],
   "source": [
    "def solution(mats, park):\n",
    "    answer = set()\n",
    "    for k in mats:\n",
    "        for i in range(len(park)-k+1):\n",
    "            for j in range(len(park[i])-k+1):\n",
    "                flag = 0\n",
    "                if park[i][j] == \"-1\":\n",
    "                    for l in range(k):\n",
    "                        if park[i+l][j:j+k] != [\"-1\"]*k:\n",
    "                            flag = 1\n",
    "                            break\n",
    "                if park[i][j] == \"-1\" and flag == 0:\n",
    "                    answer.add(k)\n",
    "                    break\n",
    "    if len(answer) > 0:\n",
    "        answer = max(answer)\n",
    "    else:\n",
    "        answer = -1\n",
    "    print(answer)      \n",
    "    return answer"
   ]
  },
  {
   "cell_type": "markdown",
   "metadata": {},
   "source": [
    "**✅ 10. 데이터 분석**<br>\n",
    "###### 출처: 프로그래머스 코딩 테스트 연습, https://school.programmers.co.kr/learn/courses/30/lessons/250121"
   ]
  },
  {
   "cell_type": "code",
   "execution_count": null,
   "metadata": {},
   "outputs": [],
   "source": [
    "def solution(data, ext, val_ext, sort_by):\n",
    "    answer = [[]]\n",
    "    cols = {\"code\":0,\"date\":1,\"maximum\":2,\"remain\":3}\n",
    "    temp = [x for x in data if x[cols[ext]] < val_ext]\n",
    "    temp.sort(key=lambda x : x[cols[sort_by]])\n",
    "    answer = temp[:]\n",
    "    return answer"
   ]
  }
 ],
 "metadata": {
  "kernelspec": {
   "display_name": "Python 3",
   "language": "python",
   "name": "python3"
  },
  "language_info": {
   "name": "python",
   "version": "3.11.0"
  }
 },
 "nbformat": 4,
 "nbformat_minor": 2
}
