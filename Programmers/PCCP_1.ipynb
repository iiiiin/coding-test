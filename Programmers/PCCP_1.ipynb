{
 "cells": [
  {
   "cell_type": "markdown",
   "metadata": {},
   "source": [
    "**✅ [PCCP 모의고사 #1] 4번 - 운영체제**<br>\n",
    "###### 출처: 프로그래머스 코딩 테스트 연습, https://school.programmers.co.kr/learn/courses/15008/lessons/121686"
   ]
  },
  {
   "cell_type": "code",
   "execution_count": null,
   "metadata": {},
   "outputs": [
    {
     "data": {
      "text/plain": [
       "[20, 0, 0, 3, 0, 0, 0, 0, 0, 0, 0]"
      ]
     },
     "execution_count": 7,
     "metadata": {},
     "output_type": "execute_result"
    }
   ],
   "source": [
    "import heapq\n",
    "\n",
    "def solution(program):\n",
    "    answer = [0]*11\n",
    "    program.sort(key=lambda x: x[1])\n",
    "    tempq = []\n",
    "    time = 0\n",
    "    if program:\n",
    "        time = program[0][1]\n",
    "    \n",
    "    while program or tempq:\n",
    "        # 현재 시간에 대한 대기 큐 삽입\n",
    "        while program and program[0][1] <= time:\n",
    "            heapq.heappush(tempq,program.pop(0))\n",
    "        \n",
    "        # 대기 큐에 원소 있다면 실행\n",
    "        if tempq:\n",
    "            x = heapq.heappop(tempq)\n",
    "            # 대기시간 계산 후 추가\n",
    "            answer[x[0]] += (time - x[1])\n",
    "            # 실행시간 추가\n",
    "            time += x[2]\n",
    "        \n",
    "        # 대기 큐가 없지만 대기하는 프로그램 있다면 시간 설정\n",
    "        elif program:\n",
    "            time = program[0][1]\n",
    "        \n",
    "    answer[0] = time\n",
    "    return answer"
   ]
  },
  {
   "cell_type": "markdown",
   "metadata": {},
   "source": [
    "**✅ [PCCP 모의고사 #1] 3번 - 유전 법칙**<br>\n",
    "###### 출처: 프로그래머스 코딩 테스트 연습, https://school.programmers.co.kr/learn/courses/20847/lessons/255902"
   ]
  },
  {
   "cell_type": "code",
   "execution_count": null,
   "metadata": {},
   "outputs": [],
   "source": [
    "def findbean(gen, order):\n",
    "    # 1세대일 때, 재귀함수 종료료\n",
    "    if gen == 1:\n",
    "        return \"Rr\"\n",
    "    \n",
    "    # 부모 세대 형질 계산 (재귀함수)\n",
    "    parent = findbean(gen - 1, (order - 1) // 4 + 1)\n",
    "    \n",
    "    # 부모가 \"RR\", \"rr\"일 경우 그대로 반환환\n",
    "    if parent == \"RR\" or parent == \"rr\":\n",
    "        return parent\n",
    "    \n",
    "    # 4로 나눠 나머지가 0이면 가장 끝 \"rr\"\n",
    "    if order % 4 == 0:\n",
    "        return \"rr\"\n",
    "    \n",
    "    # 4로 나눠 나머지가 1이면 가장 처음 \"RR\"\n",
    "    elif order % 4 == 1:\n",
    "        return \"RR\"\n",
    "    \n",
    "    # 그 외 경우 모두 \"Rr\"\n",
    "    else:\n",
    "        return \"Rr\"\n",
    "\n",
    "def solution(queries):\n",
    "    answer = []\n",
    "    for query in queries:\n",
    "        answer.append(findbean(query[0], query[1]))\n",
    "    return answer"
   ]
  },
  {
   "cell_type": "markdown",
   "metadata": {},
   "source": [
    "**✅ [PCCP 모의고사 #1] 2번 - 체육대회**<br>\n",
    "###### 출처: 프로그래머스 코딩 테스트 연습, https://school.programmers.co.kr/learn/courses/20847/lessons/255901"
   ]
  },
  {
   "cell_type": "code",
   "execution_count": null,
   "metadata": {},
   "outputs": [],
   "source": [
    "from itertools import permutations\n",
    "\n",
    "def solution(ability):\n",
    "    answer = 0\n",
    "\n",
    "    # 종목에 따라 학생의 순열 계산\n",
    "    x = list(permutations(ability, len(ability[0])))\n",
    "\n",
    "    # 학생의 위치에 해당하는 종목을 더하여 비교 후 최대값 계산\n",
    "    for i in range(len(x)):\n",
    "        total = 0\n",
    "        for j in range(len(x[i])):\n",
    "            total += x[i][j][j]\n",
    "        answer = max(answer, total)\n",
    "    return answer"
   ]
  },
  {
   "cell_type": "markdown",
   "metadata": {},
   "source": [
    "**✅ [PCCP 모의고사 #1] 1번 - 외톨이 알파벳**<br>\n",
    "###### 출처: 프로그래머스 코딩 테스트 연습, https://school.programmers.co.kr/learn/courses/15008/lessons/121683"
   ]
  },
  {
   "cell_type": "code",
   "execution_count": 27,
   "metadata": {},
   "outputs": [],
   "source": [
    "def solution(input_string):\n",
    "    answer = []\n",
    "    temp = set(list(input_string))\n",
    "    for x in temp:\n",
    "        cnt = 0\n",
    "        flag = 0\n",
    "        for i in range(len(input_string)):\n",
    "            if flag == 0 and input_string[i] == x:\n",
    "                flag = 1\n",
    "                cnt += 1\n",
    "            elif flag == 1 and input_string[i] != x:\n",
    "                flag = 0\n",
    "        if cnt > 1:\n",
    "            answer.append(x)\n",
    "    answer = \"\".join(sorted(answer))\n",
    "    if answer:\n",
    "        return answer\n",
    "    else:\n",
    "        return \"N\""
   ]
  }
 ],
 "metadata": {
  "kernelspec": {
   "display_name": "3.11.9",
   "language": "python",
   "name": "python3"
  },
  "language_info": {
   "codemirror_mode": {
    "name": "ipython",
    "version": 3
   },
   "file_extension": ".py",
   "mimetype": "text/x-python",
   "name": "python",
   "nbconvert_exporter": "python",
   "pygments_lexer": "ipython3",
   "version": "3.11.9"
  }
 },
 "nbformat": 4,
 "nbformat_minor": 2
}
