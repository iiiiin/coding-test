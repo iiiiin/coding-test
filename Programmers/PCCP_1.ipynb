{
 "cells": [
  {
   "cell_type": "markdown",
   "metadata": {},
   "source": [
    "**✅ [PCCP 모의고사 #1] 4번 - 운영체제**<br>\n",
    "###### 출처: 프로그래머스 코딩 테스트 연습, https://school.programmers.co.kr/learn/courses/15008/lessons/121686"
   ]
  },
  {
   "cell_type": "code",
   "execution_count": null,
   "metadata": {},
   "outputs": [
    {
     "data": {
      "text/plain": [
       "[20, 0, 0, 3, 0, 0, 0, 0, 0, 0, 0]"
      ]
     },
     "execution_count": 7,
     "metadata": {},
     "output_type": "execute_result"
    }
   ],
   "source": [
    "import heapq\n",
    "\n",
    "def solution(program):\n",
    "    answer = [0]*11\n",
    "    program.sort(key=lambda x: x[1])\n",
    "    tempq = []\n",
    "    time = 0\n",
    "    if program:\n",
    "        time = program[0][1]\n",
    "    \n",
    "    while program or tempq:\n",
    "        # 현재 시간에 대한 대기 큐 삽입\n",
    "        while program and program[0][1] <= time:\n",
    "            heapq.heappush(tempq,program.pop(0))\n",
    "        \n",
    "        # 대기 큐에 원소 있다면 실행\n",
    "        if tempq:\n",
    "            x = heapq.heappop(tempq)\n",
    "            # 대기시간 계산 후 추가\n",
    "            answer[x[0]] += (time - x[1])\n",
    "            # 실행시간 추가\n",
    "            time += x[2]\n",
    "        \n",
    "        # 대기 큐가 없지만 대기하는 프로그램 있다면 시간 설정\n",
    "        elif program:\n",
    "            time = program[0][1]\n",
    "        \n",
    "    answer[0] = time\n",
    "    return answer"
   ]
  },
  {
   "cell_type": "markdown",
   "metadata": {},
   "source": [
    "**✅ [PCCP 모의고사 #1] 1번 - 외톨이 알파벳**<br>\n",
    "###### 출처: 프로그래머스 코딩 테스트 연습, https://school.programmers.co.kr/learn/courses/15008/lessons/121683"
   ]
  },
  {
   "cell_type": "code",
   "execution_count": 27,
   "metadata": {},
   "outputs": [],
   "source": [
    "def solution(input_string):\n",
    "    answer = []\n",
    "    temp = set(list(input_string))\n",
    "    for x in temp:\n",
    "        cnt = 0\n",
    "        flag = 0\n",
    "        for i in range(len(input_string)):\n",
    "            if flag == 0 and input_string[i] == x:\n",
    "                flag = 1\n",
    "                cnt += 1\n",
    "            elif flag == 1 and input_string[i] != x:\n",
    "                flag = 0\n",
    "        if cnt > 1:\n",
    "            answer.append(x)\n",
    "    answer = \"\".join(sorted(answer))\n",
    "    if answer:\n",
    "        return answer\n",
    "    else:\n",
    "        return \"N\""
   ]
  }
 ],
 "metadata": {
  "kernelspec": {
   "display_name": "3.11.9",
   "language": "python",
   "name": "python3"
  },
  "language_info": {
   "codemirror_mode": {
    "name": "ipython",
    "version": 3
   },
   "file_extension": ".py",
   "mimetype": "text/x-python",
   "name": "python",
   "nbconvert_exporter": "python",
   "pygments_lexer": "ipython3",
   "version": "3.11.9"
  }
 },
 "nbformat": 4,
 "nbformat_minor": 2
}
