{
 "cells": [
  {
   "cell_type": "markdown",
   "metadata": {},
   "source": [
    "출처: 프로그래머스 코딩 테스트 연습, https://school.programmers.co.kr/learn/challenges"
   ]
  },
  {
   "cell_type": "code",
   "execution_count": null,
   "metadata": {},
   "outputs": [
    {
     "name": "stdout",
     "output_type": "stream",
     "text": [
      "[1, 2, 3, 9, 10, 12]\n"
     ]
    },
    {
     "data": {
      "text/plain": [
       "2"
      ]
     },
     "execution_count": 5,
     "metadata": {},
     "output_type": "execute_result"
    }
   ],
   "source": [
    "# 더 맵게\n",
    "\n",
    "import heapq\n",
    "def solution(scoville, K):\n",
    "    answer = 0\n",
    "    heapq.heapify(scoville)\n",
    "    while scoville[0] < K:\n",
    "        if len(scoville) == 1:\n",
    "            answer = -1\n",
    "            break\n",
    "        heapq.heappush(scoville, heapq.heappop(scoville) + 2*heapq.heappop(scoville))\n",
    "        answer += 1\n",
    "    return answer\n",
    "\n",
    "# scoville = [1, 2, 3, 9, 10, 12]\n",
    "# K = 7\n",
    "# solution(scoville, K)"
   ]
  }
 ],
 "metadata": {
  "kernelspec": {
   "display_name": "3.11.9",
   "language": "python",
   "name": "python3"
  },
  "language_info": {
   "codemirror_mode": {
    "name": "ipython",
    "version": 3
   },
   "file_extension": ".py",
   "mimetype": "text/x-python",
   "name": "python",
   "nbconvert_exporter": "python",
   "pygments_lexer": "ipython3",
   "version": "3.11.9"
  }
 },
 "nbformat": 4,
 "nbformat_minor": 2
}
