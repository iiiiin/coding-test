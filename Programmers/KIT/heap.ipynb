{
 "cells": [
  {
   "cell_type": "markdown",
   "metadata": {},
   "source": [
    "**✅ 이중우선순위큐**\n",
    "###### 출처: 프로그래머스 코딩 테스트 연습, https://school.programmers.co.kr/learn/courses/30/lessons/42628"
   ]
  },
  {
   "cell_type": "code",
   "execution_count": null,
   "metadata": {},
   "outputs": [
    {
     "data": {
      "text/plain": [
       "[333, -45]"
      ]
     },
     "metadata": {},
     "output_type": "display_data"
    }
   ],
   "source": [
    "import heapq\n",
    "\n",
    "def solution(operations):\n",
    "    minq = []\n",
    "    for x in operations:\n",
    "        x = x.split()\n",
    "        if x[0] == \"I\":\n",
    "            heapq.heappush(minq, int(x[1]))\n",
    "        elif len(minq) and x[0] == \"D\":\n",
    "            if x[1] == \"1\":\n",
    "                minq = [(-1)*x for x in minq]\n",
    "                heapq.heapify(minq)\n",
    "                heapq.heappop(minq)\n",
    "                minq = [(-1)*x for x in minq]\n",
    "                heapq.heapify(minq)\n",
    "            elif x[1] == \"-1\":\n",
    "                heapq.heappop(minq)\n",
    "    if minq:\n",
    "        answer = [max(minq),min(minq)]\n",
    "    else:\n",
    "        answer = [0,0]\n",
    "    return answer"
   ]
  },
  {
   "cell_type": "markdown",
   "metadata": {},
   "source": [
    "**✅ 디스크 컨트롤러**<br>\n",
    "###### 출처: 프로그래머스 코딩 테스트 연습, https://school.programmers.co.kr/learn/courses/30/lessons/42627"
   ]
  },
  {
   "cell_type": "code",
   "execution_count": 1,
   "metadata": {},
   "outputs": [],
   "source": [
    "import heapq\n",
    "\n",
    "def solution(jobs):\n",
    "    answer = 0\n",
    "    temp = sorted([jobs[i][::-1]+[i] for i in range(len(jobs))], key=lambda x: x[1])\n",
    "    disk = []\n",
    "    working = []\n",
    "    j, k = 0, 0\n",
    "    cnt = 0\n",
    "    while True:\n",
    "        while k <= len(temp)-1 and temp[k][1] == j:\n",
    "            heapq.heappush(disk, temp[k])\n",
    "            k += 1\n",
    "        if len(working) == 0 and len(disk) != 0:\n",
    "            working.append(heapq.heappop(disk)+[j])\n",
    "        if len(working) > 0 and j - working[0][-1] == working[0][0]:\n",
    "            answer += (j - working[0][1])\n",
    "            cnt += 1\n",
    "            if cnt == len(temp):\n",
    "                break\n",
    "            working.pop()\n",
    "            continue\n",
    "        j += 1\n",
    "    answer //= len(temp)\n",
    "    return answer"
   ]
  },
  {
   "cell_type": "markdown",
   "metadata": {},
   "source": [
    "<!-- ##### ✅ 더 맵게 -->\n",
    "**✅ 더 맵게**<br>\n",
    "###### 출처: 프로그래머스 코딩 테스트 연습, https://school.programmers.co.kr/learn/courses/30/lessons/42626"
   ]
  },
  {
   "cell_type": "code",
   "execution_count": null,
   "metadata": {},
   "outputs": [
    {
     "name": "stdout",
     "output_type": "stream",
     "text": [
      "[1, 2, 3, 9, 10, 12]\n"
     ]
    },
    {
     "data": {
      "text/plain": [
       "2"
      ]
     },
     "execution_count": 5,
     "metadata": {},
     "output_type": "execute_result"
    }
   ],
   "source": [
    "import heapq\n",
    "\n",
    "def solution(scoville, K):\n",
    "    answer = 0\n",
    "    heapq.heapify(scoville)\n",
    "    while scoville[0] < K:\n",
    "        if len(scoville) == 1:\n",
    "            answer = -1\n",
    "            break\n",
    "        heapq.heappush(scoville, heapq.heappop(scoville) + 2*heapq.heappop(scoville))\n",
    "        answer += 1\n",
    "    return answer"
   ]
  }
 ],
 "metadata": {
  "kernelspec": {
   "display_name": "3.11.9",
   "language": "python",
   "name": "python3"
  },
  "language_info": {
   "codemirror_mode": {
    "name": "ipython",
    "version": 3
   },
   "file_extension": ".py",
   "mimetype": "text/x-python",
   "name": "python",
   "nbconvert_exporter": "python",
   "pygments_lexer": "ipython3",
   "version": "3.11.9"
  }
 },
 "nbformat": 4,
 "nbformat_minor": 2
}
