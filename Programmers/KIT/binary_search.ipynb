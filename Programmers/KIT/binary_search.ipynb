{
 "cells": [
  {
   "cell_type": "markdown",
   "metadata": {},
   "source": [
    "**✅ 입국심사**<br>\n",
    "###### 출처: 프로그래머스 코딩 테스트 연습, https://school.programmers.co.kr/learn/courses/30/lessons/43238"
   ]
  },
  {
   "cell_type": "code",
   "execution_count": null,
   "metadata": {},
   "outputs": [
    {
     "data": {
      "text/plain": [
       "3"
      ]
     },
     "execution_count": 13,
     "metadata": {},
     "output_type": "execute_result"
    }
   ],
   "source": [
    "def solution(n, times):\n",
    "    # 심사시간 정렬\n",
    "    times.sort()\n",
    "    answer = 0\n",
    "    # 시작, 끝 값 설정\n",
    "    start = 1\n",
    "    end = n*times[-1]\n",
    "    # 조건에 맞는 값 찾기 (이진탐색)\n",
    "    while start <= end:\n",
    "        mid = (start + end) // 2\n",
    "        passenger = 0\n",
    "        for x in times:\n",
    "            passenger += mid // x\n",
    "            # 반복 중 조건 불만족 시 반복 중지\n",
    "            if passenger > n:\n",
    "                break\n",
    "        if passenger >= n:\n",
    "            answer = mid\n",
    "            end = mid-1\n",
    "        else:\n",
    "            start = mid+1\n",
    "    return answer"
   ]
  }
 ],
 "metadata": {
  "kernelspec": {
   "display_name": "3.11.9",
   "language": "python",
   "name": "python3"
  },
  "language_info": {
   "codemirror_mode": {
    "name": "ipython",
    "version": 3
   },
   "file_extension": ".py",
   "mimetype": "text/x-python",
   "name": "python",
   "nbconvert_exporter": "python",
   "pygments_lexer": "ipython3",
   "version": "3.11.9"
  }
 },
 "nbformat": 4,
 "nbformat_minor": 2
}
