{
 "cells": [
  {
   "cell_type": "markdown",
   "metadata": {},
   "source": [
    "**✅ 게임 맵 최단거리**<br>\n",
    "###### 출처: 프로그래머스 코딩 테스트 연습, https://school.programmers.co.kr/learn/courses/30/lessons/1844"
   ]
  },
  {
   "cell_type": "code",
   "execution_count": 4,
   "metadata": {},
   "outputs": [],
   "source": [
    "from collections import deque\n",
    "\n",
    "def solution(maps):\n",
    "    answer = 0\n",
    "    \n",
    "    dx = [-1,1,0,0]\n",
    "    dy = [0,0,-1,1]\n",
    "\n",
    "    def bfs(x,y):\n",
    "        queue = deque()\n",
    "        queue.append((x,y))\n",
    "\n",
    "        while queue:\n",
    "            x, y = queue.popleft()\n",
    "\n",
    "            for i in range(4):\n",
    "                nx = x + dx[i]\n",
    "                ny = y + dy[i]\n",
    "\n",
    "                if nx < 0 or nx >= len(maps) or ny < 0 or ny >= len(maps[0]):\n",
    "                    continue\n",
    "\n",
    "                if maps[nx][ny] == 0:\n",
    "                    continue\n",
    "\n",
    "                if maps[nx][ny] == 1:\n",
    "                    maps[nx][ny] = maps[x][y] + 1\n",
    "                    queue.append((nx, ny))\n",
    "        return maps[len(maps)-1][len(maps[0])-1]\n",
    "    \n",
    "    answer = bfs(0,0)\n",
    "    if answer == 1:\n",
    "        return -1\n",
    "    else:\n",
    "        return answer"
   ]
  },
  {
   "cell_type": "markdown",
   "metadata": {},
   "source": [
    "**✅ 네트워크**<br>\n",
    "###### 출처: 프로그래머스 코딩 테스트 연습, https://school.programmers.co.kr/learn/courses/30/lessons/43162"
   ]
  },
  {
   "cell_type": "code",
   "execution_count": null,
   "metadata": {},
   "outputs": [
    {
     "data": {
      "text/plain": [
       "1"
      ]
     },
     "execution_count": 16,
     "metadata": {},
     "output_type": "execute_result"
    }
   ],
   "source": [
    "from collections import deque\n",
    "\n",
    "def bfs(graph, start, visited):\n",
    "    # 큐 구현\n",
    "    queue = deque([start])\n",
    "    # 현재 노드 방문 처리\n",
    "    visited[start] = True\n",
    "    # 큐가 비어있지 않을 동안 반복\n",
    "    while queue:\n",
    "    # 큐에서 원소 뽑기\n",
    "        v = queue.popleft()\n",
    "    # 인접한(연결된) 노드 방문\n",
    "        for i in graph[v]:\n",
    "            if not visited[i]:\n",
    "                queue.append(i)\n",
    "                visited[i] = True\n",
    "    return visited\n",
    "\n",
    "def solution(n, computers):\n",
    "    answer = 0\n",
    "    # 인접 리스트\n",
    "    graph = [[]]\n",
    "    for i in range(n):\n",
    "        temp = []\n",
    "        for j in range(n):\n",
    "            if computers[i][j] == 1 and i != j:\n",
    "                temp.append(j+1)\n",
    "        graph.append(temp)\n",
    "    \n",
    "    # 방문 리스트\n",
    "    visited = [False]*(n+1)\n",
    "    \n",
    "    # 모든 노드에 방문할 때까지 반복\n",
    "    while False in visited[1:]:\n",
    "        start = [x for x in range(1,n+1) if not visited[x]][0]\n",
    "        visited = bfs(graph, start, visited)\n",
    "        answer += 1\n",
    "\n",
    "    return answer"
   ]
  },
  {
   "cell_type": "markdown",
   "metadata": {},
   "source": [
    "**✅ 타겟 넘버**<br>\n",
    "###### 출처: 프로그래머스 코딩 테스트 연습, https://school.programmers.co.kr/learn/courses/30/lessons/43165"
   ]
  },
  {
   "cell_type": "code",
   "execution_count": null,
   "metadata": {},
   "outputs": [
    {
     "data": {
      "text/plain": [
       "2"
      ]
     },
     "execution_count": 4,
     "metadata": {},
     "output_type": "execute_result"
    }
   ],
   "source": [
    "def comb(idx, numbers, num, temp):\n",
    "    if idx >= len(numbers):\n",
    "        temp.append(num)\n",
    "        return temp\n",
    "    # 음수로 더할 경우\n",
    "    comb(idx+1, numbers, num+numbers[idx], temp)\n",
    "    # 양수로 더할 경우\n",
    "    comb(idx+1, numbers, num-numbers[idx], temp)\n",
    "    return temp\n",
    "\n",
    "def solution(numbers, target):\n",
    "    answer = 0\n",
    "    x = comb(0, numbers, 0, [])\n",
    "    answer = x.count(target)\n",
    "    return answer"
   ]
  }
 ],
 "metadata": {
  "kernelspec": {
   "display_name": "3.11.9",
   "language": "python",
   "name": "python3"
  },
  "language_info": {
   "codemirror_mode": {
    "name": "ipython",
    "version": 3
   },
   "file_extension": ".py",
   "mimetype": "text/x-python",
   "name": "python",
   "nbconvert_exporter": "python",
   "pygments_lexer": "ipython3",
   "version": "3.11.9"
  }
 },
 "nbformat": 4,
 "nbformat_minor": 2
}
