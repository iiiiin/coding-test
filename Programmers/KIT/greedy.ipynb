{
 "cells": [
  {
   "cell_type": "markdown",
   "metadata": {},
   "source": [
    "**✅ 조이스틱**<br>\n",
    "###### 출처: 프로그래머스 코딩 테스트 연습, https://school.programmers.co.kr/learn/courses/30/lessons/42860"
   ]
  },
  {
   "cell_type": "code",
   "execution_count": null,
   "metadata": {},
   "outputs": [],
   "source": [
    "def solution(name):\n",
    "    answer = 0\n",
    "\n",
    "    min_move = len(name) - 1\n",
    "\n",
    "    for i, char in enumerate(name):\n",
    "        answer += min(ord(char) - ord(\"A\"), ord(\"Z\") - ord(char) + 1)\n",
    "\n",
    "        next = i + 1\n",
    "        while next < len(name) and name[next] == \"A\":\n",
    "            next += 1\n",
    "        min_move = min([min_move, 2 * i + len(name)-next, i + 2 * (len(name)-next)])\n",
    "    \n",
    "    answer += min_move\n",
    "    return answer"
   ]
  },
  {
   "cell_type": "markdown",
   "metadata": {},
   "source": [
    "**✅ 큰 수 만들기**<br>\n",
    "###### 출처: 프로그래머스 코딩 테스트 연습, https://school.programmers.co.kr/learn/courses/30/lessons/42883"
   ]
  },
  {
   "cell_type": "code",
   "execution_count": null,
   "metadata": {},
   "outputs": [],
   "source": [
    "def solution(number, k):\n",
    "    stack = []\n",
    "    for i in number:\n",
    "        while stack and k > 0 and stack[-1] < i:\n",
    "            stack.pop()\n",
    "            k -= 1\n",
    "        stack.append(i)\n",
    "    if k > 0:\n",
    "        answer = \"\".join(stack[:-k])\n",
    "    else:\n",
    "        answer = \"\".join(stack)\n",
    "    return answer"
   ]
  },
  {
   "cell_type": "markdown",
   "metadata": {},
   "source": [
    "**✅ 구명보트**<br>\n",
    "###### 출처: 프로그래머스 코딩 테스트 연습, https://school.programmers.co.kr/learn/courses/30/lessons/42885"
   ]
  },
  {
   "cell_type": "code",
   "execution_count": null,
   "metadata": {},
   "outputs": [],
   "source": [
    "def solution(people, limit):\n",
    "    answer = 0\n",
    "    temp = sorted(people)\n",
    "    people.sort(reverse=True)\n",
    "    i, j = 0, 0\n",
    "    val = people[i]\n",
    "    jend = len(people)-1\n",
    "    iend = len(people)\n",
    "    while i < iend or j < jend:\n",
    "        if i == iend - 1:\n",
    "            answer += 1\n",
    "            break  \n",
    "        if val + temp[j] <= limit:\n",
    "            i += 1\n",
    "            j += 1\n",
    "            iend -= 1\n",
    "            jend -= 1\n",
    "            val = people[i]\n",
    "            answer += 1\n",
    "        else:\n",
    "            i += 1\n",
    "            jend -= 1\n",
    "            val = people[i]\n",
    "            answer += 1\n",
    "    return answer"
   ]
  }
 ],
 "metadata": {
  "kernelspec": {
   "display_name": "3.11.9",
   "language": "python",
   "name": "python3"
  },
  "language_info": {
   "codemirror_mode": {
    "name": "ipython",
    "version": 3
   },
   "file_extension": ".py",
   "mimetype": "text/x-python",
   "name": "python",
   "nbconvert_exporter": "python",
   "pygments_lexer": "ipython3",
   "version": "3.11.9"
  }
 },
 "nbformat": 4,
 "nbformat_minor": 2
}
