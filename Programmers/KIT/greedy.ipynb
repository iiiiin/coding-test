{
 "cells": [
  {
   "cell_type": "markdown",
   "metadata": {},
   "source": [
    "**✅ 큰 수 만들기**<br>\n",
    "###### 출처: 프로그래머스 코딩 테스트 연습, https://school.programmers.co.kr/learn/courses/30/lessons/42883"
   ]
  },
  {
   "cell_type": "code",
   "execution_count": 2,
   "metadata": {},
   "outputs": [
    {
     "data": {
      "text/plain": [
       "'900002'"
      ]
     },
     "execution_count": 2,
     "metadata": {},
     "output_type": "execute_result"
    }
   ],
   "source": [
    "def col(idx, k, v, number, numlist, temp):\n",
    "    if k == 0 or idx == len(numlist):\n",
    "        if len(number) == v:\n",
    "            temp.append(int(number))\n",
    "            return temp\n",
    "        else:\n",
    "            return temp\n",
    "    col(idx+1, k, v, number, numlist, temp)\n",
    "    col(idx+1, k-1, v, number+numlist[idx], numlist, temp)\n",
    "\n",
    "    return temp\n",
    "\n",
    "def solution(number, k):\n",
    "    answer = ''\n",
    "    number = list(number)\n",
    "    x = col(0, len(number)-k, len(number)-k, \"\", number, [])\n",
    "    answer = str(max(x))\n",
    "    return answer\n",
    "\n",
    "solution(\"190000002\", 3)"
   ]
  },
  {
   "cell_type": "markdown",
   "metadata": {},
   "source": [
    "**✅ 구명보트**<br>\n",
    "###### 출처: 프로그래머스 코딩 테스트 연습, https://school.programmers.co.kr/learn/courses/30/lessons/42885"
   ]
  },
  {
   "cell_type": "code",
   "execution_count": null,
   "metadata": {},
   "outputs": [],
   "source": [
    "def solution(people, limit):\n",
    "    answer = 0\n",
    "    temp = sorted(people)\n",
    "    people.sort(reverse=True)\n",
    "    i, j = 0, 0\n",
    "    val = people[i]\n",
    "    jend = len(people)-1\n",
    "    iend = len(people)\n",
    "    while i < iend or j < jend:\n",
    "        if i == iend - 1:\n",
    "            answer += 1\n",
    "            break  \n",
    "        if val + temp[j] <= limit:\n",
    "            i += 1\n",
    "            j += 1\n",
    "            iend -= 1\n",
    "            jend -= 1\n",
    "            val = people[i]\n",
    "            answer += 1\n",
    "        else:\n",
    "            i += 1\n",
    "            jend -= 1\n",
    "            val = people[i]\n",
    "            answer += 1\n",
    "    return answer"
   ]
  }
 ],
 "metadata": {
  "kernelspec": {
   "display_name": "3.11.9",
   "language": "python",
   "name": "python3"
  },
  "language_info": {
   "codemirror_mode": {
    "name": "ipython",
    "version": 3
   },
   "file_extension": ".py",
   "mimetype": "text/x-python",
   "name": "python",
   "nbconvert_exporter": "python",
   "pygments_lexer": "ipython3",
   "version": "3.11.9"
  }
 },
 "nbformat": 4,
 "nbformat_minor": 2
}
