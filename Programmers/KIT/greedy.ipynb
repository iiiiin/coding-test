{
 "cells": [
  {
   "cell_type": "markdown",
   "metadata": {},
   "source": [
    "**✅ 구명보트**<br>\n",
    "###### 출처: 프로그래머스 코딩 테스트 연습, https://school.programmers.co.kr/learn/courses/30/lessons/42885"
   ]
  },
  {
   "cell_type": "code",
   "execution_count": null,
   "metadata": {},
   "outputs": [],
   "source": [
    "def solution(people, limit):\n",
    "    answer = 0\n",
    "    temp = sorted(people)\n",
    "    people.sort(reverse=True)\n",
    "    i, j = 0, 0\n",
    "    val = people[i]\n",
    "    jend = len(people)-1\n",
    "    iend = len(people)\n",
    "    while i < iend or j < jend:\n",
    "        if i == iend - 1:\n",
    "            answer += 1\n",
    "            break  \n",
    "        if val + temp[j] <= limit:\n",
    "            i += 1\n",
    "            j += 1\n",
    "            iend -= 1\n",
    "            jend -= 1\n",
    "            val = people[i]\n",
    "            answer += 1\n",
    "        else:\n",
    "            i += 1\n",
    "            jend -= 1\n",
    "            val = people[i]\n",
    "            answer += 1\n",
    "    return answer"
   ]
  }
 ],
 "metadata": {
  "kernelspec": {
   "display_name": "3.11.9",
   "language": "python",
   "name": "python3"
  },
  "language_info": {
   "codemirror_mode": {
    "name": "ipython",
    "version": 3
   },
   "file_extension": ".py",
   "mimetype": "text/x-python",
   "name": "python",
   "nbconvert_exporter": "python",
   "pygments_lexer": "ipython3",
   "version": "3.11.9"
  }
 },
 "nbformat": 4,
 "nbformat_minor": 2
}
