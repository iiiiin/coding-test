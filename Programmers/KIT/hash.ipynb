{
 "cells": [
  {
   "cell_type": "markdown",
   "metadata": {},
   "source": [
    "**✅ 베스트 앨범**\n",
    "###### 출처: 프로그래머스 코딩 테스트 연습, https://school.programmers.co.kr/learn/courses/30/lessons/42579"
   ]
  },
  {
   "cell_type": "code",
   "execution_count": null,
   "metadata": {},
   "outputs": [
    {
     "data": {
      "text/plain": [
       "[3, 2, 4, 1]"
      ]
     },
     "execution_count": 33,
     "metadata": {},
     "output_type": "execute_result"
    }
   ],
   "source": [
    "def solution(genres, plays):\n",
    "    answer = []\n",
    "    temp = {}\n",
    "    pretemp = []\n",
    "    posttemp = temp.copy()\n",
    "    for i in range(len(genres)):\n",
    "        try:\n",
    "            temp[genres[i]].append((plays[i],i))\n",
    "            posttemp[genres[i]] += plays[i]\n",
    "        except:\n",
    "            temp[genres[i]] = [(plays[i],i)]\n",
    "            posttemp[genres[i]] = plays[i]\n",
    "    a = sorted([x for x in posttemp], key=lambda x: -posttemp[x])\n",
    "    for x in a:\n",
    "        temp[x] = sorted(temp[x], key=lambda x: (-x[0], x[1]))\n",
    "        pretemp.append(temp[x])\n",
    "    for j in pretemp:\n",
    "        if len(j) < 3:\n",
    "            for k in range(len(j)):\n",
    "                answer.append(j[k][1])\n",
    "        else:\n",
    "            for k in range(2):\n",
    "                answer.append(j[k][1])\n",
    "    return answer"
   ]
  },
  {
   "cell_type": "markdown",
   "metadata": {},
   "source": [
    "**✅ 의상**\n",
    "###### 출처: 프로그래머스 코딩 테스트 연습, https://school.programmers.co.kr/learn/courses/30/lessons/42578"
   ]
  },
  {
   "cell_type": "code",
   "execution_count": 16,
   "metadata": {},
   "outputs": [],
   "source": [
    "def solution(clothes):\n",
    "    answer = 1\n",
    "    cody = {}\n",
    "    for i in range(len(clothes)):\n",
    "        try:\n",
    "            cody[clothes[i][1]].append(clothes[i][0])\n",
    "        except:\n",
    "            cody[clothes[i][1]] = [clothes[i][0]]\n",
    "    for v in cody.values():\n",
    "        answer *= len(v)+1\n",
    "    answer -= 1\n",
    "    return answer"
   ]
  },
  {
   "cell_type": "markdown",
   "metadata": {},
   "source": [
    "**✅ 전화번호 목록**<br>\n",
    "###### 출처: 프로그래머스 코딩 테스트 연습, https://school.programmers.co.kr/learn/courses/30/lessons/42577"
   ]
  },
  {
   "cell_type": "code",
   "execution_count": 8,
   "metadata": {},
   "outputs": [],
   "source": [
    "def solution(phone_book):\n",
    "    answer = True\n",
    "    phone_list = sorted(phone_book)\n",
    "    for i in range(len(phone_list)-1):\n",
    "        if phone_list[i] == phone_list[i+1][:len(phone_list[i])]:\n",
    "            answer = False\n",
    "            return answer\n",
    "    return answer"
   ]
  },
  {
   "cell_type": "markdown",
   "metadata": {},
   "source": [
    "**✅ 완주하지 못한 선수**<br>\n",
    "###### 출처: 프로그래머스 코딩 테스트 연습, https://school.programmers.co.kr/learn/courses/30/lessons/42576"
   ]
  },
  {
   "cell_type": "code",
   "execution_count": null,
   "metadata": {},
   "outputs": [],
   "source": [
    "def solution(participant, completion):\n",
    "    answer = ''\n",
    "    participant.sort()\n",
    "    completion.sort()\n",
    "    for i in range(len(completion)):\n",
    "        if participant[i] != completion[i]:\n",
    "            answer = participant[i]\n",
    "            return answer\n",
    "    answer = participant[-1]\n",
    "    return answer"
   ]
  },
  {
   "cell_type": "markdown",
   "metadata": {},
   "source": [
    "**✅ 폰켓몬**<br>\n",
    "###### 출처: 프로그래머스 코딩 테스트 연습, https://school.programmers.co.kr/learn/courses/30/lessons/1845"
   ]
  },
  {
   "cell_type": "code",
   "execution_count": null,
   "metadata": {},
   "outputs": [
    {
     "data": {
      "text/plain": [
       "2"
      ]
     },
     "execution_count": 3,
     "metadata": {},
     "output_type": "execute_result"
    }
   ],
   "source": [
    "def solution(nums):\n",
    "    answer = 0\n",
    "    temp = {}\n",
    "    for i in range(len(nums)):\n",
    "        try:\n",
    "            temp[nums[i]] += 1\n",
    "        except:\n",
    "            temp[nums[i]] = 1\n",
    "    if len(temp) < len(nums) // 2:\n",
    "        answer = len(temp)\n",
    "    else:\n",
    "        answer = len(nums) // 2\n",
    "    return answer"
   ]
  }
 ],
 "metadata": {
  "kernelspec": {
   "display_name": "3.11.9",
   "language": "python",
   "name": "python3"
  },
  "language_info": {
   "codemirror_mode": {
    "name": "ipython",
    "version": 3
   },
   "file_extension": ".py",
   "mimetype": "text/x-python",
   "name": "python",
   "nbconvert_exporter": "python",
   "pygments_lexer": "ipython3",
   "version": "3.11.9"
  }
 },
 "nbformat": 4,
 "nbformat_minor": 2
}
