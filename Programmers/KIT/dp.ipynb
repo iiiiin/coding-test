{
 "cells": [
  {
   "cell_type": "markdown",
   "metadata": {},
   "source": [
    "**✅ 등굣길**<br>\n",
    "###### 출처: 프로그래머스 코딩 테스트 연습, https://school.programmers.co.kr/learn/courses/30/lessons/42898"
   ]
  },
  {
   "cell_type": "code",
   "execution_count": null,
   "metadata": {},
   "outputs": [
    {
     "data": {
      "text/plain": [
       "4"
      ]
     },
     "execution_count": 43,
     "metadata": {},
     "output_type": "execute_result"
    }
   ],
   "source": [
    "def solution(m, n, puddles):\n",
    "    answer = 0\n",
    "\n",
    "    # DP 테이블 초기화\n",
    "    dp = [[0] * m for _ in range(n)]\n",
    "\n",
    "    # 시작점 설정\n",
    "    dp[0][0] = 1\n",
    "\n",
    "    # 첫 번째 열 초기화\n",
    "    for i in range(1,n):\n",
    "        if [1,i+1] not in puddles:\n",
    "            dp[i][0] = dp[i-1][0]\n",
    "        \n",
    "    # 첫 번째 행 초기화\n",
    "    for j in range(1,m):\n",
    "        if [j+1,1] not in puddles:\n",
    "            dp[0][j] = dp[0][j-1]\n",
    "\n",
    "    # DP 테이블 계산\n",
    "    for i in range(1,n):\n",
    "        for j in range(1,m):\n",
    "            if [j+1,i+1] not in puddles:\n",
    "                dp[i][j] = dp[i-1][j] + dp[i][j-1]\n",
    "    \n",
    "    answer = dp[n-1][m-1] % 1000000007\n",
    "    return answer"
   ]
  }
 ],
 "metadata": {
  "kernelspec": {
   "display_name": "3.11.9",
   "language": "python",
   "name": "python3"
  },
  "language_info": {
   "codemirror_mode": {
    "name": "ipython",
    "version": 3
   },
   "file_extension": ".py",
   "mimetype": "text/x-python",
   "name": "python",
   "nbconvert_exporter": "python",
   "pygments_lexer": "ipython3",
   "version": "3.11.9"
  }
 },
 "nbformat": 4,
 "nbformat_minor": 2
}
