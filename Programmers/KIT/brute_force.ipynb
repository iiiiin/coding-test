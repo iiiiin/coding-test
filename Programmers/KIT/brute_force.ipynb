{
 "cells": [
  {
   "cell_type": "markdown",
   "metadata": {},
   "source": [
    "**✅ 카펫**<br>\n",
    "###### 출처: 프로그래머스 코딩 테스트 연습, https://school.programmers.co.kr/learn/courses/30/lessons/42842"
   ]
  },
  {
   "cell_type": "code",
   "execution_count": null,
   "metadata": {},
   "outputs": [
    {
     "data": {
      "text/plain": [
       "[8, 6]"
      ]
     },
     "metadata": {},
     "output_type": "display_data"
    }
   ],
   "source": [
    "def solution(brown, yellow):\n",
    "    answer = []\n",
    "    for i in range(1,int(yellow**(0.5))+1):\n",
    "        if yellow % i == 0:\n",
    "            col = yellow // i\n",
    "            row = i\n",
    "        if 2*(col+2+row) == brown:\n",
    "            answer.extend([col+2,row+2])\n",
    "            break\n",
    "    return answer\n",
    "\n",
    "solution(24,24)"
   ]
  }
 ],
 "metadata": {
  "language_info": {
   "name": "python"
  }
 },
 "nbformat": 4,
 "nbformat_minor": 2
}
