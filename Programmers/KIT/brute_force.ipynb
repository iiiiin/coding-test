{
 "cells": [
  {
   "cell_type": "markdown",
   "metadata": {},
   "source": [
    "**✅ 전력망을 둘로 나누기**<br>\n",
    "###### 출처: 프로그래머스 코딩 테스트 연습, https://school.programmers.co.kr/learn/courses/30/lessons/86971"
   ]
  },
  {
   "cell_type": "code",
   "execution_count": null,
   "metadata": {},
   "outputs": [
    {
     "data": {
      "text/plain": [
       "1"
      ]
     },
     "execution_count": 37,
     "metadata": {},
     "output_type": "execute_result"
    }
   ],
   "source": [
    "from collections import deque\n",
    "from copy import deepcopy\n",
    "\n",
    "def bfs(graph, start, visited):\n",
    "    # print(graph)\n",
    "    # 큐 구현, 시작 노드 방문\n",
    "    queue = deque([start])\n",
    "    # 현재 노드 방문 처리\n",
    "    visited[start] = True\n",
    "    cnt = 1\n",
    "    # 큐가 비어있지 않을 동안 반복\n",
    "    while queue:\n",
    "        # 큐에서 원소 뽑기\n",
    "        v = queue.popleft()\n",
    "        # 원소와 연결된, 방문하지 않은 원소(노드) 큐에 삽입\n",
    "        # 원소(노드)의 연결정보(graph)에서 순회\n",
    "        for i in graph[v]:\n",
    "            if not visited[i]:\n",
    "                queue.append(i)\n",
    "                visited[i] = True\n",
    "                cnt += 1\n",
    "                \n",
    "    return visited, cnt\n",
    "\n",
    "def solution(n, wires):\n",
    "    answer = n\n",
    "    # 인접 리스트: 노드의 연결 정보 표현\n",
    "    graph = [[] for _ in range(n+1)]\n",
    "    for i in range(len(wires)):\n",
    "        graph[wires[i][0]].append(wires[i][1])\n",
    "        graph[wires[i][1]].append(wires[i][0])\n",
    "    # 방문 기록 리스트: 노드의 방문 정보 표현\n",
    "    wires.sort()\n",
    "    start = wires[0][0]\n",
    "    # 어떻게 자를까? wires 참고!\n",
    "    # 반복해서 MAX 값 업데이트\n",
    "    for i in range(n-1):\n",
    "        temp = deepcopy(graph)     \n",
    "        visited = [False] * (n+1)\n",
    "    # 전선 절단 => 2개 트리로 나뉨\n",
    "        temp[wires[i][0]].remove(wires[i][1])\n",
    "        temp[wires[i][1]].remove(wires[i][0])\n",
    "    # 방문하지 않은 가장 작은 노드부터 다시 탐색(계수) 시작\n",
    "        visited, pre = bfs(temp, start, visited)\n",
    "        start = min([x for x in range(1,n+1) if not visited[x]])\n",
    "        visited, post = bfs(temp, start, visited)\n",
    "    # 2개 트리의 차이를 계산 후 MAX 값 업데이트\n",
    "        answer = min(answer, abs(pre-post))\n",
    "    return answer"
   ]
  },
  {
   "cell_type": "markdown",
   "metadata": {},
   "source": [
    "**✅ 피로도**<br>\n",
    "###### 출처: 프로그래머스 코딩 테스트 연습, https://school.programmers.co.kr/learn/courses/30/lessons/87946"
   ]
  },
  {
   "cell_type": "code",
   "execution_count": null,
   "metadata": {},
   "outputs": [
    {
     "data": {
      "text/plain": [
       "3"
      ]
     },
     "execution_count": 5,
     "metadata": {},
     "output_type": "execute_result"
    }
   ],
   "source": [
    "from itertools import permutations\n",
    "\n",
    "def solution(k, dungeons):\n",
    "    answer = -1\n",
    "    cnt = 0\n",
    "    for i in permutations(dungeons,len(dungeons)):\n",
    "        temp = 0\n",
    "        pretemp = k\n",
    "        for j in range(len(i)):\n",
    "            if pretemp >= i[j][0]:\n",
    "                pretemp -= i[j][1]\n",
    "                temp += 1\n",
    "            else:\n",
    "                break\n",
    "        cnt = max(cnt, temp)\n",
    "    answer = cnt\n",
    "    return answer"
   ]
  },
  {
   "cell_type": "markdown",
   "metadata": {},
   "source": [
    "**✅ 소수 찾기**<br>\n",
    "###### 출처: 프로그래머스 코딩 테스트 연습, https://school.programmers.co.kr/learn/courses/30/lessons/42839"
   ]
  },
  {
   "cell_type": "code",
   "execution_count": null,
   "metadata": {},
   "outputs": [
    {
     "name": "stdout",
     "output_type": "stream",
     "text": [
      "110 [0, 1, 101, 10, 11, 110]\n"
     ]
    },
    {
     "data": {
      "text/plain": [
       "2"
      ]
     },
     "execution_count": 74,
     "metadata": {},
     "output_type": "execute_result"
    }
   ],
   "source": [
    "from itertools import permutations\n",
    "\n",
    "def sieve(n, temp):\n",
    "    cnt = 0\n",
    "\n",
    "    # 소수 확인 리스트\n",
    "    is_prime = [True] * (n+1)\n",
    "    is_prime[0] = is_prime[1] = False\n",
    "\n",
    "    # 에라토스 테네스의 체\n",
    "    # 제곱근까지의 범위에서 계산\n",
    "    for i in range(2, int(n**0.5)+1):\n",
    "        # i의 배수를 모두 False 처리\n",
    "        if is_prime[i]:\n",
    "            for j in range(i*i, n+1, i):\n",
    "                is_prime[j] = False\n",
    "\n",
    "    # 소수 (is_prime[i]=True)인 원소에서, 입력 값이 포함되는지 확인\n",
    "\n",
    "    for x in temp:\n",
    "        if is_prime[x]:\n",
    "            cnt += 1\n",
    "    return cnt\n",
    "\n",
    "\n",
    "def solution(numbers):\n",
    "    numbers = list(numbers)\n",
    "    temp = []\n",
    "    for i in range(1, len(numbers)+1):\n",
    "        temp.extend([int(\"\".join(x)) for x in list(permutations(numbers, i))])\n",
    "    temp = list(set(temp))\n",
    "    answer = sieve(max(temp), temp)\n",
    "    return answer"
   ]
  },
  {
   "cell_type": "markdown",
   "metadata": {},
   "source": [
    "**✅ 모음사전**<br>\n",
    "###### 출처: 프로그래머스 코딩 테스트 연습, https://school.programmers.co.kr/learn/courses/30/lessons/84512"
   ]
  },
  {
   "cell_type": "code",
   "execution_count": 75,
   "metadata": {},
   "outputs": [],
   "source": [
    "def solution(word):\n",
    "    answer = 0\n",
    "    pronoun = ['', 'A', 'E', 'I', 'O', 'U']\n",
    "    pdict = []\n",
    "    for i in range(len(pronoun)):\n",
    "        for j in range(len(pronoun)):\n",
    "            for k in range(len(pronoun)):\n",
    "                for l in range(len(pronoun)):\n",
    "                    for m in range(len(pronoun)):\n",
    "                        text = pronoun[i]+pronoun[j]+pronoun[k]+pronoun[l]+pronoun[m]\n",
    "                        pdict.append(text.strip())\n",
    "    pdict = list(set(pdict))\n",
    "    pdict.sort()\n",
    "    answer = pdict.index(word)\n",
    "    return answer"
   ]
  },
  {
   "cell_type": "markdown",
   "metadata": {},
   "source": [
    "**✅ 카펫**<br>\n",
    "###### 출처: 프로그래머스 코딩 테스트 연습, https://school.programmers.co.kr/learn/courses/30/lessons/42842"
   ]
  },
  {
   "cell_type": "code",
   "execution_count": null,
   "metadata": {},
   "outputs": [
    {
     "data": {
      "text/plain": [
       "[8, 6]"
      ]
     },
     "metadata": {},
     "output_type": "display_data"
    }
   ],
   "source": [
    "def solution(brown, yellow):\n",
    "    answer = []\n",
    "    for i in range(1,int(yellow**(0.5))+1):\n",
    "        if yellow % i == 0:\n",
    "            col = yellow // i\n",
    "            row = i\n",
    "        if 2*(col+2+row) == brown:\n",
    "            answer.extend([col+2,row+2])\n",
    "            break\n",
    "    return answer\n",
    "\n",
    "solution(24,24)"
   ]
  }
 ],
 "metadata": {
  "kernelspec": {
   "display_name": "3.11.9",
   "language": "python",
   "name": "python3"
  },
  "language_info": {
   "codemirror_mode": {
    "name": "ipython",
    "version": 3
   },
   "file_extension": ".py",
   "mimetype": "text/x-python",
   "name": "python",
   "nbconvert_exporter": "python",
   "pygments_lexer": "ipython3",
   "version": "3.11.9"
  }
 },
 "nbformat": 4,
 "nbformat_minor": 2
}
