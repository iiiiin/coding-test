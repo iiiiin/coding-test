{
 "cells": [
  {
   "cell_type": "markdown",
   "metadata": {},
   "source": [
    "**✅ 소수 찾기**<br>\n",
    "###### 출처: 프로그래머스 코딩 테스트 연습, https://school.programmers.co.kr/learn/courses/30/lessons/42839"
   ]
  },
  {
   "cell_type": "code",
   "execution_count": null,
   "metadata": {},
   "outputs": [
    {
     "name": "stdout",
     "output_type": "stream",
     "text": [
      "110 [0, 1, 101, 10, 11, 110]\n"
     ]
    },
    {
     "data": {
      "text/plain": [
       "2"
      ]
     },
     "execution_count": 74,
     "metadata": {},
     "output_type": "execute_result"
    }
   ],
   "source": [
    "from itertools import permutations\n",
    "\n",
    "def sieve(n, temp):\n",
    "    cnt = 0\n",
    "\n",
    "    # 소수 확인 리스트\n",
    "    is_prime = [True] * (n+1)\n",
    "    is_prime[0] = is_prime[1] = False\n",
    "\n",
    "    # 에라토스 테네스의 체\n",
    "    # 제곱근까지의 범위에서 계산\n",
    "    for i in range(2, int(n**0.5)+1):\n",
    "        # i의 배수를 모두 False 처리\n",
    "        if is_prime[i]:\n",
    "            for j in range(i*i, n+1, i):\n",
    "                is_prime[j] = False\n",
    "\n",
    "    # 소수 (is_prime[i]=True)인 원소에서, 입력 값이 포함되는지 확인\n",
    "\n",
    "    for x in temp:\n",
    "        if is_prime[x]:\n",
    "            cnt += 1\n",
    "    return cnt\n",
    "\n",
    "\n",
    "def solution(numbers):\n",
    "    numbers = list(numbers)\n",
    "    temp = []\n",
    "    for i in range(1, len(numbers)+1):\n",
    "        temp.extend([int(\"\".join(x)) for x in list(permutations(numbers, i))])\n",
    "    temp = list(set(temp))\n",
    "    answer = sieve(max(temp), temp)\n",
    "    return answer"
   ]
  },
  {
   "cell_type": "markdown",
   "metadata": {},
   "source": [
    "**✅ 모음사전**<br>\n",
    "###### 출처: 프로그래머스 코딩 테스트 연습, https://school.programmers.co.kr/learn/courses/30/lessons/84512"
   ]
  },
  {
   "cell_type": "code",
   "execution_count": 75,
   "metadata": {},
   "outputs": [],
   "source": [
    "def solution(word):\n",
    "    answer = 0\n",
    "    pronoun = ['', 'A', 'E', 'I', 'O', 'U']\n",
    "    pdict = []\n",
    "    for i in range(len(pronoun)):\n",
    "        for j in range(len(pronoun)):\n",
    "            for k in range(len(pronoun)):\n",
    "                for l in range(len(pronoun)):\n",
    "                    for m in range(len(pronoun)):\n",
    "                        text = pronoun[i]+pronoun[j]+pronoun[k]+pronoun[l]+pronoun[m]\n",
    "                        pdict.append(text.strip())\n",
    "    pdict = list(set(pdict))\n",
    "    pdict.sort()\n",
    "    answer = pdict.index(word)\n",
    "    return answer"
   ]
  },
  {
   "cell_type": "markdown",
   "metadata": {},
   "source": [
    "**✅ 카펫**<br>\n",
    "###### 출처: 프로그래머스 코딩 테스트 연습, https://school.programmers.co.kr/learn/courses/30/lessons/42842"
   ]
  },
  {
   "cell_type": "code",
   "execution_count": null,
   "metadata": {},
   "outputs": [
    {
     "data": {
      "text/plain": [
       "[8, 6]"
      ]
     },
     "metadata": {},
     "output_type": "display_data"
    }
   ],
   "source": [
    "def solution(brown, yellow):\n",
    "    answer = []\n",
    "    for i in range(1,int(yellow**(0.5))+1):\n",
    "        if yellow % i == 0:\n",
    "            col = yellow // i\n",
    "            row = i\n",
    "        if 2*(col+2+row) == brown:\n",
    "            answer.extend([col+2,row+2])\n",
    "            break\n",
    "    return answer\n",
    "\n",
    "solution(24,24)"
   ]
  }
 ],
 "metadata": {
  "kernelspec": {
   "display_name": "3.11.9",
   "language": "python",
   "name": "python3"
  },
  "language_info": {
   "codemirror_mode": {
    "name": "ipython",
    "version": 3
   },
   "file_extension": ".py",
   "mimetype": "text/x-python",
   "name": "python",
   "nbconvert_exporter": "python",
   "pygments_lexer": "ipython3",
   "version": "3.11.9"
  }
 },
 "nbformat": 4,
 "nbformat_minor": 2
}
