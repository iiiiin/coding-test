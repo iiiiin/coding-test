{
 "cells": [
  {
   "cell_type": "markdown",
   "metadata": {},
   "source": [
    "출처: 프로그래머스 코딩 테스트 연습, https://school.programmers.co.kr/learn/challenges"
   ]
  },
  {
   "cell_type": "code",
   "execution_count": null,
   "metadata": {},
   "outputs": [],
   "source": [
    "# 올바른 괄호\n",
    "\n",
    "def solution(s):\n",
    "    answer = True\n",
    "    temp = {}\n",
    "    flag = 0\n",
    "    if s[0] == \"(\":\n",
    "        temp[s[0]] = 1\n",
    "        temp[\")\"] = 0\n",
    "    else:\n",
    "        answer = False\n",
    "        return answer\n",
    "    for i in range(1, len(s)):\n",
    "        temp[s[i]] += 1\n",
    "        if temp[\"(\"] < temp[\")\"]:\n",
    "            answer = False\n",
    "            return answer\n",
    "    if temp[\"(\"] != temp[\")\"]:\n",
    "        answer = False\n",
    "    return answer"
   ]
  },
  {
   "cell_type": "code",
   "execution_count": null,
   "metadata": {},
   "outputs": [
    {
     "data": {
      "text/plain": [
       "[2, 1]"
      ]
     },
     "metadata": {},
     "output_type": "display_data"
    }
   ],
   "source": [
    "# 기능 개발\n",
    "\n",
    "def solution(progresses, speeds):\n",
    "    answer = []\n",
    "    temp = []\n",
    "    for i in range(len(progresses)):\n",
    "        if (100 - progresses[i]) % speeds[i] == 0:\n",
    "            days = (100 - progresses[i]) // speeds[i]\n",
    "        else:\n",
    "            days = (100 - progresses[i]) // speeds[i] + 1\n",
    "        temp.append(days)\n",
    "    val = temp[0]\n",
    "    cnt = 1\n",
    "    for j in range(1,len(temp)):\n",
    "        if val >= temp[j]:\n",
    "            cnt += 1\n",
    "        else:\n",
    "            val = temp[j]\n",
    "            answer.append(cnt)\n",
    "            cnt = 1\n",
    "    answer.append(cnt)\n",
    "    return answer"
   ]
  }
 ],
 "metadata": {
  "language_info": {
   "name": "python"
  }
 },
 "nbformat": 4,
 "nbformat_minor": 2
}
