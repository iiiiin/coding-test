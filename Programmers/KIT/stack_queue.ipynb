{
 "cells": [
  {
   "cell_type": "markdown",
   "metadata": {},
   "source": [
    "**✅ 주식가격**<br>\n",
    "###### 출처: 프로그래머스 코딩 테스트 연습, https://school.programmers.co.kr/learn/courses/30/lessons/42584"
   ]
  },
  {
   "cell_type": "code",
   "execution_count": null,
   "metadata": {},
   "outputs": [
    {
     "data": {
      "text/plain": [
       "[4, 3, 1, 1, 0]"
      ]
     },
     "execution_count": 32,
     "metadata": {},
     "output_type": "execute_result"
    }
   ],
   "source": [
    "def solution(prices):\n",
    "    answer = []\n",
    "    for i in range(len(prices)):\n",
    "        sec = 0\n",
    "        for j in range(i+1,len(prices)):\n",
    "            sec += 1\n",
    "            if prices[i] > prices[j]:\n",
    "                break       \n",
    "        answer.append(sec)\n",
    "    return answer"
   ]
  },
  {
   "cell_type": "markdown",
   "metadata": {},
   "source": [
    "**✅ 다리를 지나는 트럭**<br>\n",
    "###### 출처: 프로그래머스 코딩 테스트 연습, https://school.programmers.co.kr/learn/courses/30/lessons/42583"
   ]
  },
  {
   "cell_type": "code",
   "execution_count": null,
   "metadata": {},
   "outputs": [
    {
     "data": {
      "text/plain": [
       "110"
      ]
     },
     "execution_count": 30,
     "metadata": {},
     "output_type": "execute_result"
    }
   ],
   "source": [
    "def solution(bridge_length, weight, truck_weights):\n",
    "    answer = 0\n",
    "    onbridge = [1]\n",
    "    t = 0\n",
    "    while len(onbridge):\n",
    "        if t == 0:\n",
    "            onbridge = []\n",
    "        t += 1\n",
    "        while len(onbridge):\n",
    "            if t - onbridge[0][1] == bridge_length:\n",
    "                onbridge.pop(0)\n",
    "            else:\n",
    "                break\n",
    "        if len(truck_weights) and len(onbridge) < bridge_length and sum([x[0] for x in onbridge]) + truck_weights[0] <= weight:\n",
    "            onbridge.append([truck_weights.pop(0),t])\n",
    "    answer = t\n",
    "    return answer"
   ]
  },
  {
   "cell_type": "markdown",
   "metadata": {},
   "source": [
    "**✅ 프로세스**<br>\n",
    "###### 출처: 프로그래머스 코딩 테스트 연습, https://school.programmers.co.kr/learn/courses/30/lessons/42587"
   ]
  },
  {
   "cell_type": "code",
   "execution_count": null,
   "metadata": {},
   "outputs": [
    {
     "data": {
      "text/plain": [
       "1"
      ]
     },
     "execution_count": 12,
     "metadata": {},
     "output_type": "execute_result"
    }
   ],
   "source": [
    "def solution(priorities, location):\n",
    "    answer = 0\n",
    "    process = [chr(ord(\"A\")+i) for i in range(len(priorities))]\n",
    "    k = 0\n",
    "    while len(priorities):\n",
    "        x = priorities.pop(0)\n",
    "        if len(priorities) > 0 and x < max(priorities):\n",
    "            priorities.append(x)\n",
    "            process.append(process.pop(k))\n",
    "        else:\n",
    "            k += 1\n",
    "    answer = process.index(chr(65+location))+1\n",
    "    return answer"
   ]
  },
  {
   "cell_type": "markdown",
   "metadata": {},
   "source": [
    "**✅ 올바른 괄호**<br>\n",
    "###### 출처: 프로그래머스 코딩 테스트 연습, https://school.programmers.co.kr/learn/courses/30/lessons/12909"
   ]
  },
  {
   "cell_type": "code",
   "execution_count": null,
   "metadata": {},
   "outputs": [],
   "source": [
    "# 올바른 괄호\n",
    "\n",
    "def solution(s):\n",
    "    answer = True\n",
    "    temp = {}\n",
    "    flag = 0\n",
    "    if s[0] == \"(\":\n",
    "        temp[s[0]] = 1\n",
    "        temp[\")\"] = 0\n",
    "    else:\n",
    "        answer = False\n",
    "        return answer\n",
    "    for i in range(1, len(s)):\n",
    "        temp[s[i]] += 1\n",
    "        if temp[\"(\"] < temp[\")\"]:\n",
    "            answer = False\n",
    "            return answer\n",
    "    if temp[\"(\"] != temp[\")\"]:\n",
    "        answer = False\n",
    "    return answer"
   ]
  },
  {
   "cell_type": "markdown",
   "metadata": {},
   "source": [
    "**✅ 기능 개발**<br>\n",
    "###### 출처: 프로그래머스 코딩 테스트 연습, https://school.programmers.co.kr/learn/courses/30/lessons/42586"
   ]
  },
  {
   "cell_type": "code",
   "execution_count": null,
   "metadata": {},
   "outputs": [
    {
     "data": {
      "text/plain": [
       "[2, 1]"
      ]
     },
     "metadata": {},
     "output_type": "display_data"
    }
   ],
   "source": [
    "def solution(progresses, speeds):\n",
    "    answer = []\n",
    "    temp = []\n",
    "    for i in range(len(progresses)):\n",
    "        if (100 - progresses[i]) % speeds[i] == 0:\n",
    "            days = (100 - progresses[i]) // speeds[i]\n",
    "        else:\n",
    "            days = (100 - progresses[i]) // speeds[i] + 1\n",
    "        temp.append(days)\n",
    "    val = temp[0]\n",
    "    cnt = 1\n",
    "    for j in range(1,len(temp)):\n",
    "        if val >= temp[j]:\n",
    "            cnt += 1\n",
    "        else:\n",
    "            val = temp[j]\n",
    "            answer.append(cnt)\n",
    "            cnt = 1\n",
    "    answer.append(cnt)\n",
    "    return answer"
   ]
  },
  {
   "cell_type": "markdown",
   "metadata": {},
   "source": [
    "**✅ 같은 숫자는 싫어**<br>\n",
    "###### 출처: 프로그래머스 코딩 테스트 연습, https://school.programmers.co.kr/learn/courses/30/lessons/12906"
   ]
  },
  {
   "cell_type": "code",
   "execution_count": null,
   "metadata": {},
   "outputs": [],
   "source": [
    "def solution(arr):\n",
    "    answer = []\n",
    "    answer.append(arr[0])\n",
    "    for i in range(1,len(arr)):\n",
    "        if arr[i-1] != arr[i]:\n",
    "            answer.append(arr[i])\n",
    "    return answer"
   ]
  }
 ],
 "metadata": {
  "kernelspec": {
   "display_name": "3.11.9",
   "language": "python",
   "name": "python3"
  },
  "language_info": {
   "codemirror_mode": {
    "name": "ipython",
    "version": 3
   },
   "file_extension": ".py",
   "mimetype": "text/x-python",
   "name": "python",
   "nbconvert_exporter": "python",
   "pygments_lexer": "ipython3",
   "version": "3.11.9"
  }
 },
 "nbformat": 4,
 "nbformat_minor": 2
}
